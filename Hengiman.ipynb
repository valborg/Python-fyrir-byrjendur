{
 "cells": [
  {
   "cell_type": "markdown",
   "metadata": {},
   "source": [
    "Kennsluefni þetta var samið af Valborgu Sturludóttur og er gefið út undir leyfi CC 3.0, heimilt er að afrita, nota, deila og vinna áfram með efnið ef vísað er í höfund, óheimilt er að hagnast á efninu. \n",
    "Kennsluefni þetta fylgir bókinni <b>Python fyrir byrjendur - inngangur að forritun</b> sem kom út í fyrstu útgáfu í ágúst 2022. \n",
    "Þetta er fyrsta útgáfan af þessari verkefnabók, gefin út í ágúst 2022."
   ]
  },
  {
   "cell_type": "markdown",
   "metadata": {},
   "source": [
    "# Hengiman\n",
    "\n",
    "Þessi verkefnabók snýst um gagnavinnslu og reiknirit, markmiðið er að ná upp þeirri leikni sem þarf til að geta búið til tölvuleikinn hengiman.\n",
    "\n",
    "Það verður mikið um endurtekningar, það sem við getum gert endurtökum við í sellum fyrir neðan þar til við erum að lokum komin með leik sem virkar.\n",
    "\n",
    "Áður en við byrjum þurfum við að átta okkur á umfangi verkefnisins. Hvað þarf eiginlega að gerast til að þessi leikur verði að raunveruleika?\n",
    "\n",
    "<ul>\n",
    "    <li>Orðasafn til að vinna með</li>\n",
    "    <li>Velja orð af handahófi úr orðasafninu </li>\n",
    "    <li>Sýna stafafjöldann úr orðinu</li>\n",
    "    <li>Gefa kost á að giska á stafi</li>\n",
    "    <li>Halda utan um ágiskanirnar</li>\n",
    "    <li>Sýna hvar stafurinn er í orðinu ef giskað er rétt</li>\n",
    "    <li>Sýna að notandi hafi giskað vitlaust annars</li>\n",
    "    <li>Láta leikinn klárast ef notandi vinnur eða giskar of oft vitlaust</li>\n",
    "\n",
    "</ul>"
   ]
  },
  {
   "cell_type": "markdown",
   "metadata": {},
   "source": [
    "### Byrjum á einfaldri gagnanotkun"
   ]
  },
  {
   "cell_type": "code",
   "execution_count": null,
   "metadata": {},
   "outputs": [],
   "source": [
    "# Byrjum á orðum til að vinna með\n",
    "# Búðu til lista sem inniheldur streng\n",
    "...\n",
    "\n",
    "# Náðu nú í strenginn úr listanum og geymdu í breytu\n",
    "..."
   ]
  },
  {
   "cell_type": "markdown",
   "metadata": {},
   "source": [
    "Hér er þá komið fyrsta orðið sem við getum notað, við geymdum það í lista og við gátum sótt það. Það er ekki þannig sem við viljum gera þetta í lokaútgáfunni okkar en við erum að komast þangað hægt og bítandi.\n",
    "\n",
    "Það sem við ætlum þá að gera er að finna hvað orðið okkar er langt og búa til lista með jafnmörgum táknum. Við gerum það til að geta skipt út táknunum fyrir rétta stafi svo notandinn sjái hvar stafir eiga að vera og hvað margir stafir eru í orðinu.\n",
    "\n",
    "Dæmi <br>\n",
    "[_ _ _ _ _ ] (eftir 0 ágiskanir) <br>\n",
    "[_ o _ _ _ ] (eftir 1 ágiskun)<br>\n",
    "[_ o _ _ i ] (eftir 2 ágiskanir)<br>\n"
   ]
  },
  {
   "cell_type": "code",
   "execution_count": 2,
   "metadata": {},
   "outputs": [
    {
     "name": "stdout",
     "output_type": "stream",
     "text": [
      "['_', '_', '_', '_', '_']\n"
     ]
    }
   ],
   "source": [
    "# hér er dæmi með listasegð\n",
    "\n",
    "annad_ord = [\"_\" for x in \"halló\"]\n",
    "print(annad_ord)"
   ]
  },
  {
   "cell_type": "code",
   "execution_count": null,
   "metadata": {},
   "outputs": [],
   "source": [
    "# Breytan sem inniheldur orðið okkar er af einhverri lengd, hver er hún?\n",
    "...\n",
    "\n",
    "# Búum til aðra breytu sem inniheldur lista sem jafn mörg stök og lengd orðsins (talan að ofan) en þau eru bara niðurstrik \"_\"\n",
    "..."
   ]
  },
  {
   "cell_type": "markdown",
   "metadata": {},
   "source": [
    "Nú erum við komin með orðið sem á að giska á og framsetninguna sem notandinn á að sjá, það er niðurstrik í stað stafanna. Því ekki viljum við að notandinn sjái orðið strax.\n",
    "\n",
    "Prófum nú aðeins virkni á bakvið leikinn."
   ]
  },
  {
   "cell_type": "code",
   "execution_count": null,
   "metadata": {},
   "outputs": [],
   "source": [
    "# Prófum nú að setja inn staf í listann með niðurstrikunum ef stafurinn er í orðinu og þá á sama stað\n",
    "if(... in ...):\n",
    "    ...[...] = ..."
   ]
  },
  {
   "cell_type": "markdown",
   "metadata": {},
   "source": [
    "Þetta er grunnvirknin, það er eitthvað orð sem er leyniorðið og svo er niðurstriksframsetningin ágiskun notandans á leyniorðinu. Hér væri gott að ákveða einhver lýsandi breytuheiti fyrir þessu tvö fyrirbæri, orðið sem var valið og orðið sem er notað til að sýna árangurinn.\n",
    "\n",
    "Það næsta sem við ætlum að gera er að velja orð af handahófi."
   ]
  },
  {
   "cell_type": "code",
   "execution_count": null,
   "metadata": {},
   "outputs": [],
   "source": [
    "import ...\n",
    "\n",
    "# Búum til lista sem inniheldur nokkra strengi, mislanga jafnvel, en þó bara stök orð.\n",
    "...\n",
    "\n",
    "# Búum nú til breytu sem inniheldur einn streng úr listanum að ofan af handahófi.\n",
    "...\n",
    "\n",
    "# Búum til lista sem inniheldur jafn mörg niðurstrik eins og eru í strengnum sem var valinn\n",
    "..."
   ]
  },
  {
   "cell_type": "markdown",
   "metadata": {},
   "source": [
    "Ástæðan fyrir því að nota lista er vegna þess að það er auðvelt að breyta honum en þetta er eingöngu tillaga sem við ætlum að vinna með að svo stöddu.\n",
    "\n",
    "Loka afurðin verður í ykkar höndum."
   ]
  },
  {
   "cell_type": "markdown",
   "metadata": {},
   "source": [
    "### Búum til orðalista í skjali\n",
    "\n",
    "Í Jupyter Notebooks er hægt að nota skipunina <code>%%writefile nafnáskrá</code> til þess að búa til skjal.\n",
    "\n",
    "Gerum nú skjal sem inniheldur einhvern aragrúa af mismunandi orðum, hvert orð er í einni eigin línu svo að við getum fengið eitt orð sem stak í lista þegar við vinnum með skjalið. Svo verður það líka læsilegra skjal."
   ]
  },
  {
   "cell_type": "code",
   "execution_count": null,
   "metadata": {},
   "outputs": [],
   "source": [
    "%%writefile ...\n",
    "...\n",
    "...\n",
    "..."
   ]
  },
  {
   "cell_type": "code",
   "execution_count": null,
   "metadata": {},
   "outputs": [],
   "source": [
    "with open(..., encoding = 'utf-8', mode = 'r') as ...:\n",
    "    # hér skulum við búa til lista af orðum upp úr skjalinu okkar úr sellunni að ofan\n",
    "    \n",
    "# Skoðum hvort að listinn hafi ekki örugglega skilað sér"
   ]
  },
  {
   "cell_type": "code",
   "execution_count": null,
   "metadata": {},
   "outputs": [],
   "source": [
    "# náum nú í orð af handahófi upp úr listanum"
   ]
  },
  {
   "cell_type": "markdown",
   "metadata": {},
   "source": [
    "Athugið að sellurnar þrjár hér að ofan má keyra oft og mörgum sinnum þá sérstaklega til þess að bæta inn í textaskjalið einhverjum nýjum orðum.\n",
    "Einnig er hægt að opna skjalið með textaritli af skráarsafninu á tölvunni og gera það þannig, þá skulið þið láta það vera að nota efstu selluna aftur."
   ]
  },
  {
   "cell_type": "markdown",
   "metadata": {},
   "source": [
    "### Ákveðum leikreglur\n",
    "\n",
    "Búum nú til nokkrar grunnreglur sem við ætlum að vinna út frá eins og:\n",
    "<ul>\n",
    "    <li>Á að vera hægt að spila marga leiki?</li>\n",
    "    <li>Á að halda utan um hvernig gengur milli leikja?</li>\n",
    "    <li>Hvað á að vera hægt að giska oft rangt?</li>\n",
    "    <li>Á að vera hægt að giska rangt á sama stafinn aftur?</li>\n",
    "    <li>Á að sýna hvað orðið var ef ekki náðist að giska á það?</li>\n",
    "    <li>Á að láta notandann vita ef giskað var aftur á staf sem búið er að giska á?</li>\n",
    "</ul>\n",
    "\n",
    "Þegar búið er að ákveða hvernig leikurinn á að ganga fyrir sig er hægt að byrja að forrita hann. (gott að skrifa hérna svörin svo það gleymist ekki)"
   ]
  },
  {
   "cell_type": "markdown",
   "metadata": {},
   "source": [
    "### Byrjum nú að prófa inntak\n",
    "\n",
    "Við munum að við fáum alltaf streng til baka úr <code>input()</code> fallinu og að við viljum einnig bara fá einn staf frá notandanum, þannig að við þurfum að vinna inntakið eitthvað.\n",
    "\n",
    "Til dæmis með trim() og lower()."
   ]
  },
  {
   "cell_type": "code",
   "execution_count": null,
   "metadata": {},
   "outputs": [],
   "source": [
    "# Prófum að biðja um einn staf og vinna inntakið svo það sé örugglega einn stafur\n",
    "..."
   ]
  },
  {
   "cell_type": "code",
   "execution_count": null,
   "metadata": {},
   "outputs": [],
   "source": [
    "# Búum til lykkju sem keyrir fimm sinnum og hún biður í hvert sinn um staf\n",
    "# Sá stafur er vistaður í lista (notum kóðann úr sellunni að ofan til að fá örugglega bara einn staf)\n",
    "..."
   ]
  },
  {
   "cell_type": "markdown",
   "metadata": {},
   "source": [
    "Nú ætlum við að flækja hlutina, þessi listi sem við bjuggum til hér fyrir ofan eru stafir sem búið er að giska á. Nú ætlum við að prófa okkur áfram með virkni sem snýr að því að láta notandann vita hvort að einhver tiltekinn stafur hafi komið fyrir áður.\n",
    "\n",
    "Við ætlum að búa til lykkju sem keyrir að eilífu eða hún keyrir á meðan ágiskun notandans er ekki þessum lista okkar, þið ráðið.\n",
    "Það sem lykkjan gerir er að biðja notandann um einn staf, og athugar inntakið, ef sá stafur er í listanum yfir stafi sem búið er að giska á þá keyrir lykkjan aftur.\n",
    "\n",
    "Hér væri gott að bæta við inni í lykkjunni útrpentun til notandans að <i>þessir</i> stafir hafa nú þegar komið fyrir, reyndu einhverja aðra."
   ]
  },
  {
   "cell_type": "code",
   "execution_count": null,
   "metadata": {},
   "outputs": [],
   "source": [
    "# Búið til lykkju sem getur keyrt að eilífu en mun ekki gera það við rétt inntak\n",
    "..."
   ]
  },
  {
   "cell_type": "markdown",
   "metadata": {},
   "source": [
    "### Prófum núna úttak\n",
    "\n",
    "Nú erum við klár á því hvernig við tökum við staf frá notanda, nú viljum við geta sýnt notandanum ef stafurinn var til staðar í orðinu.\n",
    "\n",
    "Við eigum eitt orð af handahófi þarna einhver staðar fyrir ofan (ef ekki náum við í nýtt hérna) og það sem við ætlum að gera er að athuga hvort að stafurinn sem notandinn giskaði á var í orðinu.\n",
    "\n",
    "Nú verðum við að pæla í því að sami stafurinn getur komið oft fyrir í orði, til dæmis orðið \"amma\" ef giskað væri á \"a\" ætti notandinn að fá að sjá að \"a - - a \" hafi verið úttakið."
   ]
  },
  {
   "cell_type": "code",
   "execution_count": null,
   "metadata": {},
   "outputs": [],
   "source": [
    "# Náum í orð af handahófi (gott að prenta það út líka svo við vitum að allt virki rétt)\n",
    "...\n",
    "\n",
    "# Búum til lista sem inniheldur jafnmörg tákn og handahófsorðið nema niðurstrik eða bandstrik eða álíka\n",
    "...\n",
    "\n",
    "# Látum notanda gefa upp staf til að giska á\n",
    "...\n",
    "\n",
    "# Athugum hvort að stafurinn hafi verið í orðinu, \n",
    "# ef svo er skulum við setja hann inn í niðurstriks-listann þar sem stafurinn kemur fyrir í orðinu\n",
    "# ef svo er ekki skulum við prenta út \"stafurinn 'x' kom ekki fyrir í orðinu 'handahófsorð'\"\n",
    "..."
   ]
  },
  {
   "cell_type": "markdown",
   "metadata": {},
   "source": [
    "En nú viljum við geta séð ef stafurinn kom aftar en einu sinni fyrir, það getum við gert með annarri while lykkju og með því að kasta handahófsorðinu í lista."
   ]
  },
  {
   "cell_type": "code",
   "execution_count": null,
   "metadata": {},
   "outputs": [],
   "source": [
    "# Köstum handahófsorðinu í lista (prentum það út til að vera viss um að allt virki)\n",
    "...\n",
    "\n",
    "# Látum nú notanda giska á staf\n",
    "...\n",
    "\n",
    "# Á meðan stafurinn sem notandinn gaf upp kemur fyrir í handahófslistanum skal:\n",
    "    # setja stafinn á sama stað í niðurstrikslistann\n",
    "    # fjarlægja stafinn úr handahófslistanum, en setja eitthvað í staðinn eins og ! til að rugla ekki stafaröðinni\n",
    "...\n"
   ]
  },
  {
   "cell_type": "markdown",
   "metadata": {},
   "source": [
    "### Nú getum við byrjað leikinn\n",
    "\n",
    "Við erum komin með það sem þarf til að gera leikinn, við erum með skjal af orðum, við gátum fengið inntak frá notanda og athugað hvort að stafurinn hefði komið fyrir áður, við erum búin núna að athuga hvort að stafurinn er í orðinu og þá hvar.\n",
    "\n",
    "Hvað er þá eftir?\n",
    "\n",
    "Að púsla þessu saman við leikreglurnar okkar þannig að hægt sé að spila leik.\n",
    "\n",
    "Hægt er að gera það með klasa eða falli; klasa ef halda á utan um árangur notanda og fall ef það skiptir ekki máli.\n",
    "\n",
    "Gerum hér ráð fyrir að grunnvirkni skipti máli en ekki samhengi milli leikja, það kemur seinna.\n",
    "\n",
    "Þannig að við byrjum á því að búa til fall sem heitir hengiman(), það tekur við textaskjali frá notanda sem eina viðfangið sitt. Við gerum það því að við viljum geta prófað orðalista frá öðrum.\n",
    "\n",
    "Innan fallsins ætlum við svo að skilgreina nokkrar breytur sem snúa að leikreglunum, þessar breytur verða að heita lýsandi nöfnum:\n",
    "<ul>\n",
    "    <li>Orð af handahófi úr orðalistanum úr orðaskjalinu í viðfanginu, sem á að sýna notanda í lokin</li>\n",
    "    <li>Listi af sömu táknum eins og orðið sem var valið, sem á að nota til að finna stað stafa</li>\n",
    "    <li>Listi af jafn mörgum táknum eins og orðið sem var valið sem á að nota til að sýna árangur notandans jafnóðum</li>\n",
    "    <li>Breytu sem heldur utan um hversu oft má giska vitlaust</li>\n",
    "    <li>Breytu sem heldur utan um hversu oft er búið að giska vitlaust</li>\n",
    "    <li>Tóman lista sem heldur utan um táknin sem notandinn er búinn að giska á</li>\n",
    "</ul>\n",
    "\n",
    "Þá á að búa til lykkjuna sem heldur leiknum gangandi, hún heldur áfram eftir því hvernig leikreglur eiga að vera, á leikurinn að hætta eftir ákveðið mörg röng gisk? Þá er það skilyrðið sem lætur lykkjuna hætta. Á leikurinn að hætta þegar rétta orðið er fundið? Þá hættir lykkjan keyrslu þegar ekkert niðurstrik er eftir. Á lykkjan að hætta ef of mikill tími er liðinn? Þá er time kóðasafnið notað. Þetta er bara útfærslu atriði sem þið getið prófað ykkur áfram með.\n",
    "\n",
    "Innan lykkjunnar á svo að fá inntak frá notanda, það má gera með lykkju þar sem ekki er notað inntak nema að það sé stafur sem ekki hefur verið giskað á.\n",
    "\n",
    "Þegar búið er að fá inntak þá skal athugað hvort að það komi fyrir í orðinu og á meðan það er í orðinu (listanum af orðinu) skal setja það í gisk-listann og taka það úr handahófsorðið-listanum\n",
    "\n",
    "Þegar þeirri lykkju er lokið skal prenta gisklistann og svo athuga hvort að notandinn sé búinn að vinna, ef svo er má hætta keyrslu lykkjunnar\n",
    "\n",
    "Þegar leiklykkjunni er svo lokið hvað á þá að gerast?\n",
    "Á að segja notandanum orðið, eða bara ef viðkomandi giskaði of oft vitlaust?\n",
    "Á að gefa notandanum kost á að byrja leikinn upp á nýtt? Þá köllum við aftur á fallið með sama orðalista aftur"
   ]
  }
 ],
 "metadata": {
  "kernelspec": {
   "display_name": "Python 3",
   "language": "python",
   "name": "python3"
  },
  "language_info": {
   "codemirror_mode": {
    "name": "ipython",
    "version": 3
   },
   "file_extension": ".py",
   "mimetype": "text/x-python",
   "name": "python",
   "nbconvert_exporter": "python",
   "pygments_lexer": "ipython3",
   "version": "3.8.3"
  }
 },
 "nbformat": 4,
 "nbformat_minor": 4
}
